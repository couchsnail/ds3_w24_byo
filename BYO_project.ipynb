{
 "cells": [
  {
   "cell_type": "code",
   "execution_count": 6,
   "metadata": {},
   "outputs": [],
   "source": [
    "import numpy as np\n",
    "import pandas as pd\n",
    "data = pd.read_csv(\"games.csv\")"
   ]
  },
  {
   "cell_type": "code",
   "execution_count": 7,
   "metadata": {},
   "outputs": [],
   "source": [
    "#Some columns have values that are difficult to do data analysis with. Fix up these columns with this method!\n",
    "def fixNumbers(val):\n",
    "    if val.endswith('K'):\n",
    "        new_str = \"\"\n",
    "        new_str = val.replace(\".\",\"\")\n",
    "        new_str = new_str.replace(\"K\",\"\")\n",
    "        return int(new_str)*1000\n",
    "    else:\n",
    "       return int(val)\n",
    "\n",
    "#Example with fixing reviews\n",
    "fixedNum = data.assign(Reviews=data.get(\"Reviews\").apply(fixNumbers))"
   ]
  },
  {
   "cell_type": "code",
   "execution_count": 8,
   "metadata": {},
   "outputs": [
    {
     "data": {
      "text/html": [
       "<div>\n",
       "<style scoped>\n",
       "    .dataframe tbody tr th:only-of-type {\n",
       "        vertical-align: middle;\n",
       "    }\n",
       "\n",
       "    .dataframe tbody tr th {\n",
       "        vertical-align: top;\n",
       "    }\n",
       "\n",
       "    .dataframe thead th {\n",
       "        text-align: right;\n",
       "    }\n",
       "</style>\n",
       "<table border=\"1\" class=\"dataframe\">\n",
       "  <thead>\n",
       "    <tr style=\"text-align: right;\">\n",
       "      <th></th>\n",
       "      <th>Developers</th>\n",
       "    </tr>\n",
       "    <tr>\n",
       "      <th>Reviews</th>\n",
       "      <th></th>\n",
       "    </tr>\n",
       "  </thead>\n",
       "  <tbody>\n",
       "    <tr>\n",
       "      <th>99</th>\n",
       "      <td>['Ubisoft Entertainment', 'Ubisoft Paris']['At...</td>\n",
       "    </tr>\n",
       "    <tr>\n",
       "      <th>988</th>\n",
       "      <td>['Nintendo of America', 'Nintendo EPD']</td>\n",
       "    </tr>\n",
       "    <tr>\n",
       "      <th>983</th>\n",
       "      <td>['Nintendo', 'Nintendo R&amp;D4']</td>\n",
       "    </tr>\n",
       "    <tr>\n",
       "      <th>98</th>\n",
       "      <td>['Asmik Ace Entertainment', 'OutSide Directors...</td>\n",
       "    </tr>\n",
       "    <tr>\n",
       "      <th>977</th>\n",
       "      <td>['Team Salvato']</td>\n",
       "    </tr>\n",
       "    <tr>\n",
       "      <th>97</th>\n",
       "      <td>['Koei Tecmo', 'Gust']['Capcom']['Tose', 'Squa...</td>\n",
       "    </tr>\n",
       "    <tr>\n",
       "      <th>966</th>\n",
       "      <td>['Spike ChunSoft', 'NIS America']</td>\n",
       "    </tr>\n",
       "    <tr>\n",
       "      <th>96</th>\n",
       "      <td>['tobyfox']['CD Projekt RED']['Pandemic Studio...</td>\n",
       "    </tr>\n",
       "    <tr>\n",
       "      <th>959</th>\n",
       "      <td>['Square Enix']</td>\n",
       "    </tr>\n",
       "    <tr>\n",
       "      <th>958</th>\n",
       "      <td>['Nintendo EAD', 'Nintendo']</td>\n",
       "    </tr>\n",
       "  </tbody>\n",
       "</table>\n",
       "</div>"
      ],
      "text/plain": [
       "                                                Developers\n",
       "Reviews                                                   \n",
       "99       ['Ubisoft Entertainment', 'Ubisoft Paris']['At...\n",
       "988                ['Nintendo of America', 'Nintendo EPD']\n",
       "983                          ['Nintendo', 'Nintendo R&D4']\n",
       "98       ['Asmik Ace Entertainment', 'OutSide Directors...\n",
       "977                                       ['Team Salvato']\n",
       "97       ['Koei Tecmo', 'Gust']['Capcom']['Tose', 'Squa...\n",
       "966                      ['Spike ChunSoft', 'NIS America']\n",
       "96       ['tobyfox']['CD Projekt RED']['Pandemic Studio...\n",
       "959                                        ['Square Enix']\n",
       "958                           ['Nintendo EAD', 'Nintendo']"
      ]
     },
     "execution_count": 8,
     "metadata": {},
     "output_type": "execute_result"
    }
   ],
   "source": [
    "#Problem #1: What developers create games with the highest number of reviews? How would you sort this dataframe to check?\n",
    "developers = data[[\"Developers\",\"Reviews\"]].groupby(\"Reviews\").sum().sort_values(\"Reviews\",ascending=False)\n",
    "developers.take(np.arange(10))"
   ]
  },
  {
   "cell_type": "code",
   "execution_count": 9,
   "metadata": {},
   "outputs": [
    {
     "data": {
      "text/plain": [
       "<Axes: xlabel='Reviews', ylabel='Rating'>"
      ]
     },
     "execution_count": 9,
     "metadata": {},
     "output_type": "execute_result"
    },
    {
     "data": {
      "image/png": "[encoded data removed]",
      "text/plain": [
       "<Figure size 640x480 with 1 Axes>"
      ]
     },
     "metadata": {},
     "output_type": "display_data"
    }
   ],
   "source": [
    "#Problem #2: Is there a relationship between ratings and reviews? What kind of plot would be best to model this relationship?\n",
    "fixedNum.plot(kind='scatter',x='Reviews',y='Rating')"
   ]
  }
 ],
 "metadata": {
  "kernelspec": {
   "display_name": "Python 3",
   "language": "python",
   "name": "python3"
  },
  "language_info": {
   "codemirror_mode": {
    "name": "ipython",
    "version": 3
   },
   "file_extension": ".py",
   "mimetype": "text/x-python",
   "name": "python",
   "nbconvert_exporter": "python",
   "pygments_lexer": "ipython3",
   "version": "3.10.13"
  }
 },
 "nbformat": 4,
 "nbformat_minor": 2
}
