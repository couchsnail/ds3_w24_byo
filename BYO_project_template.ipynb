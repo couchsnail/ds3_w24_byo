{
 "cells": [
  {
   "cell_type": "code",
   "execution_count": null,
   "metadata": {},
   "outputs": [],
   "source": [
    "import numpy as np\n",
    "import pandas as pd\n",
    "data = pd.read_csv(\"games.csv\")"
   ]
  },
  {
   "cell_type": "code",
   "execution_count": null,
   "metadata": {},
   "outputs": [],
   "source": [
    "#Some columns have values that are difficult to do data analysis with. Clean up the data as needed. You can use this method if needed. \n",
    "def fixNumbers(val):\n",
    "    if val.endswith('K'):\n",
    "        new_str = \"\"\n",
    "        new_str = val.replace(\".\",\"\")\n",
    "        new_str = new_str.replace(\"K\",\"\")\n",
    "        return int(new_str)*1000\n",
    "    else:\n",
    "       return int(val)\n",
    "\n",
    "#Example line of code with fixing reviews\n",
    "fixedNum = data.assign(...=data.get(\"...\").apply(fixNumbers))"
   ]
  },
  {
   "cell_type": "code",
   "execution_count": null,
   "metadata": {},
   "outputs": [],
   "source": [
    "#Problem #1: What developers create games with the highest number of reviews? How would you sort this dataframe to check?\n",
    "developers = ...\n",
    "..."
   ]
  },
  {
   "cell_type": "code",
   "execution_count": null,
   "metadata": {},
   "outputs": [],
   "source": [
    "#Problem #2: Is there a relationship between ratings and reviews? What kind of plot would be best to model this relationship?\n",
    "'???'.plot(kind='...',x='...',y='...')"
   ]
  }
 ],
 "metadata": {
  "language_info": {
   "name": "python"
  }
 },
 "nbformat": 4,
 "nbformat_minor": 2
}
